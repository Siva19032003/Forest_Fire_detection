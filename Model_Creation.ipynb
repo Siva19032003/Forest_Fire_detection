{
  "cells": [
    {
      "cell_type": "markdown",
      "source": [
        "# ***Important Libraby***"
      ],
      "metadata": {
        "id": "1HBeyaqTH7OZ"
      }
    },
    {
      "cell_type": "code",
      "execution_count": null,
      "metadata": {
        "id": "0bjtA7dgw41E"
      },
      "outputs": [],
      "source": [
        "import os\n",
        "import math\n",
        "import datetime\n",
        "import warnings\n",
        "import numpy as np\n",
        "import matplotlib.pyplot as plt\n",
        "import seaborn as sns\n",
        "import pandas as pd\n",
        "import tensorflow as tf\n",
        "from tensorflow.keras.preprocessing.image import ImageDataGenerator\n",
        "from tensorflow.keras.models import Model, load_model\n",
        "from tensorflow.keras.layers import (Input, Conv2D, MaxPool2D, BatchNormalization,\n",
        "                                     GlobalAveragePooling2D, Dense, Dropout)\n",
        "from tensorflow.keras.callbacks import (ModelCheckpoint, EarlyStopping,\n",
        "                                        ReduceLROnPlateau, TensorBoard)\n",
        "from PIL import ImageFile\n",
        "import kagglehub  # you already used this\n",
        "\n",
        "warnings.filterwarnings(\"ignore\")\n",
        "ImageFile.LOAD_TRUNCATED_IMAGES = True\n",
        "tf.get_logger().setLevel('ERROR')"
      ]
    },
    {
      "cell_type": "code",
      "execution_count": null,
      "metadata": {
        "id": "PPyuBIOfw5dr"
      },
      "outputs": [],
      "source": [
        "DOWNLOAD = False\n",
        "DATA_ROOT = \"/root/.cache/kagglehub/datasets/abdelghaniaaba/wildfire-prediction-dataset/versions/1\"  # change if different\n",
        "MODEL_DIR = \"saved_model\"\n",
        "os.makedirs(MODEL_DIR, exist_ok=True)"
      ]
    },
    {
      "cell_type": "code",
      "execution_count": null,
      "metadata": {
        "id": "pFRMO4TYx3s5"
      },
      "outputs": [],
      "source": [
        "IM_SIZE = 224\n",
        "BATCH_SIZE = 32\n",
        "NUM_CLASSES = 2\n",
        "EPOCHS = 5\n",
        "SEED = 42\n",
        "AUTOTUNE = tf.data.AUTOTUNE\n",
        "\n",
        "TRAIN_SUBDIR = \"train\"\n",
        "VALID_SUBDIR = \"valid\"\n",
        "TEST_SUBDIR = \"test\""
      ]
    },
    {
      "cell_type": "markdown",
      "source": [
        "# ***Load*** ***DataSet***"
      ],
      "metadata": {
        "id": "QokjC-C8IDL8"
      }
    },
    {
      "cell_type": "code",
      "execution_count": null,
      "metadata": {
        "colab": {
          "base_uri": "https://localhost:8080/"
        },
        "id": "W4S9Mrltx57y",
        "outputId": "f1d056e5-50cd-4897-ae3f-fe8329b6c351"
      },
      "outputs": [
        {
          "output_type": "stream",
          "name": "stdout",
          "text": [
            "Downloading from https://www.kaggle.com/api/v1/datasets/download/abdelghaniaaba/wildfire-prediction-dataset?dataset_version_number=1...\n"
          ]
        },
        {
          "output_type": "stream",
          "name": "stderr",
          "text": [
            "100%|██████████| 1.45G/1.45G [00:12<00:00, 120MB/s]"
          ]
        },
        {
          "output_type": "stream",
          "name": "stdout",
          "text": [
            "Extracting files...\n"
          ]
        },
        {
          "output_type": "stream",
          "name": "stderr",
          "text": [
            "\n"
          ]
        },
        {
          "output_type": "stream",
          "name": "stdout",
          "text": [
            "Dataset stored at: /root/.cache/kagglehub/datasets/abdelghaniaaba/wildfire-prediction-dataset/versions/1\n",
            "/root/.cache/kagglehub/datasets/abdelghaniaaba/wildfire-prediction-dataset/versions/1 0 files\n",
            "/root/.cache/kagglehub/datasets/abdelghaniaaba/wildfire-prediction-dataset/versions/1/test 0 files\n",
            "/root/.cache/kagglehub/datasets/abdelghaniaaba/wildfire-prediction-dataset/versions/1/test/nowildfire 2820 files\n",
            "/root/.cache/kagglehub/datasets/abdelghaniaaba/wildfire-prediction-dataset/versions/1/test/wildfire 3480 files\n",
            "/root/.cache/kagglehub/datasets/abdelghaniaaba/wildfire-prediction-dataset/versions/1/valid 0 files\n",
            "/root/.cache/kagglehub/datasets/abdelghaniaaba/wildfire-prediction-dataset/versions/1/valid/nowildfire 2820 files\n",
            "/root/.cache/kagglehub/datasets/abdelghaniaaba/wildfire-prediction-dataset/versions/1/valid/wildfire 3480 files\n",
            "/root/.cache/kagglehub/datasets/abdelghaniaaba/wildfire-prediction-dataset/versions/1/train 0 files\n",
            "/root/.cache/kagglehub/datasets/abdelghaniaaba/wildfire-prediction-dataset/versions/1/train/nowildfire 14500 files\n",
            "/root/.cache/kagglehub/datasets/abdelghaniaaba/wildfire-prediction-dataset/versions/1/train/wildfire 15750 files\n"
          ]
        }
      ],
      "source": [
        "import os\n",
        "import kagglehub\n",
        "\n",
        "# Download dataset (root folder)\n",
        "DATA_ROOT = kagglehub.dataset_download(\"abdelghaniaaba/wildfire-prediction-dataset\")\n",
        "print(\"Dataset stored at:\", DATA_ROOT)\n",
        "\n",
        "# Define subfolders\n",
        "train_path = os.path.join(DATA_ROOT, \"train\")\n",
        "valid_path = os.path.join(DATA_ROOT, \"valid\")\n",
        "test_path  = os.path.join(DATA_ROOT, \"test\")\n",
        "\n",
        "# Safety check\n",
        "for p in (train_path, valid_path, test_path):\n",
        "    if not os.path.isdir(p):\n",
        "        print(\"⚠️ Warning: expected directory missing:\", p)\n",
        "\n",
        "# Quick look at structure\n",
        "for root, dirs, files in os.walk(DATA_ROOT):\n",
        "    print(root, len(files), \"files\")\n"
      ]
    },
    {
      "cell_type": "markdown",
      "source": [
        "# ***Pre-Processing The Data***"
      ],
      "metadata": {
        "id": "88fzm9W0vw7J"
      }
    },
    {
      "cell_type": "code",
      "execution_count": null,
      "metadata": {
        "id": "3f1u6leQx-_2"
      },
      "outputs": [],
      "source": [
        "# Data augmentation for training to improve generalization\n",
        "train_datagen = ImageDataGenerator(\n",
        "    rescale=1./255,\n",
        "    rotation_range=20,\n",
        "    width_shift_range=0.1,\n",
        "    height_shift_range=0.1,\n",
        "    zoom_range=0.15,\n",
        "    horizontal_flip=True,\n",
        "    vertical_flip=False,\n",
        "    shear_range=0.05,\n",
        "    fill_mode='nearest'\n",
        ")"
      ]
    },
    {
      "cell_type": "code",
      "execution_count": null,
      "metadata": {
        "colab": {
          "base_uri": "https://localhost:8080/"
        },
        "id": "PDcSeGndyBrp",
        "outputId": "31890de8-7d11-459f-f8a7-c94fc095b974"
      },
      "outputs": [
        {
          "output_type": "stream",
          "name": "stdout",
          "text": [
            "Found 30250 images belonging to 2 classes.\n"
          ]
        }
      ],
      "source": [
        "# Validation/test: only rescale\n",
        "val_datagen = ImageDataGenerator(rescale=1./255)\n",
        "\n",
        "train_generator = train_datagen.flow_from_directory(\n",
        "    train_path,\n",
        "    target_size=(IM_SIZE, IM_SIZE),\n",
        "    batch_size=BATCH_SIZE,\n",
        "    class_mode='categorical',\n",
        "    shuffle=True,\n",
        "    seed=SEED\n",
        ")"
      ]
    },
    {
      "cell_type": "code",
      "execution_count": null,
      "metadata": {
        "colab": {
          "base_uri": "https://localhost:8080/"
        },
        "id": "FUxVi3jByGRF",
        "outputId": "56a71fc7-130c-4f6a-c105-061869b48886"
      },
      "outputs": [
        {
          "output_type": "stream",
          "name": "stdout",
          "text": [
            "Found 6300 images belonging to 2 classes.\n"
          ]
        }
      ],
      "source": [
        "valid_generator = val_datagen.flow_from_directory(\n",
        "    valid_path,\n",
        "    target_size=(IM_SIZE, IM_SIZE),\n",
        "    batch_size=BATCH_SIZE,\n",
        "    class_mode='categorical',\n",
        "    shuffle=False,\n",
        "    seed=SEED\n",
        ")"
      ]
    },
    {
      "cell_type": "code",
      "execution_count": null,
      "metadata": {
        "colab": {
          "base_uri": "https://localhost:8080/"
        },
        "id": "feJ6adzByIJh",
        "outputId": "7be213c7-9258-4f9d-b941-ff842ab0491b"
      },
      "outputs": [
        {
          "output_type": "stream",
          "name": "stdout",
          "text": [
            "Found 6300 images belonging to 2 classes.\n",
            "Class mapping: {'nowildfire': 0, 'wildfire': 1}\n"
          ]
        }
      ],
      "source": [
        "test_generator = val_datagen.flow_from_directory(\n",
        "    test_path,\n",
        "    target_size=(IM_SIZE, IM_SIZE),\n",
        "    batch_size=BATCH_SIZE,\n",
        "    class_mode='categorical',\n",
        "    shuffle=False,\n",
        "    seed=SEED\n",
        ")\n",
        "\n",
        "class_mapping = train_generator.class_indices\n",
        "print(\"Class mapping:\", class_mapping)\n",
        "class_names = list(class_mapping.keys())"
      ]
    },
    {
      "cell_type": "markdown",
      "source": [
        "# ***Class Distribution Plot***"
      ],
      "metadata": {
        "id": "iBKkUAjcv71h"
      }
    },
    {
      "cell_type": "code",
      "execution_count": null,
      "metadata": {
        "colab": {
          "base_uri": "https://localhost:8080/",
          "height": 803
        },
        "id": "KFDSQjEAyKSi",
        "outputId": "89f60e72-4647-48c5-8e58-a1d9eed9faf3"
      },
      "outputs": [
        {
          "output_type": "display_data",
          "data": {
            "text/plain": [
              "<Figure size 600x400 with 1 Axes>"
            ],
            "image/png": "[encoded data removed]"
          },
          "metadata": {}
        },
        {
          "output_type": "display_data",
          "data": {
            "text/plain": [
              "<Figure size 600x400 with 1 Axes>"
            ],
            "image/png": "[encoded data removed]"
          },
          "metadata": {}
        }
      ],
      "source": [
        "# Quick class distribution plots\n",
        "def plot_class_distribution(generator, title=\"Class distribution\"):\n",
        "    labels = generator.classes\n",
        "    unique, counts = np.unique(labels, return_counts=True)\n",
        "    counts_by_class = {class_names[int(u)]: int(c) for u, c in zip(unique, counts)}\n",
        "    df = pd.DataFrame({\"Class\": list(counts_by_class.keys()), \"Count\": list(counts_by_class.values())})\n",
        "    plt.figure(figsize=(6,4))\n",
        "    sns.barplot(x='Class', y='Count', data=df)\n",
        "    plt.title(title)\n",
        "    plt.show()\n",
        "\n",
        "plot_class_distribution(train_generator, \"Train set class distribution\")\n",
        "plot_class_distribution(valid_generator, \"Validation set class distribution\")"
      ]
    },
    {
      "cell_type": "markdown",
      "source": [
        "# ***Model Building***"
      ],
      "metadata": {
        "id": "nnddv2ySwJbn"
      }
    },
    {
      "cell_type": "code",
      "execution_count": null,
      "metadata": {
        "id": "obnjTTPmyMSU"
      },
      "outputs": [],
      "source": [
        "# --------------------- Model builder -----------------------\n",
        "def conv_block(x, filters, kernel=3, pool=True, dropout_rate=0.0):\n",
        "    x = Conv2D(filters, kernel, padding='same', activation='relu')(x)\n",
        "    x = BatchNormalization()(x)\n",
        "    if pool:\n",
        "        x = MaxPool2D(2)(x)\n",
        "    if dropout_rate and dropout_rate > 0:\n",
        "        x = Dropout(dropout_rate)(x)\n",
        "    return x\n",
        "\n",
        "def build_custom_cnn(input_shape=(IM_SIZE, IM_SIZE, 3), num_classes=NUM_CLASSES):\n",
        "    inp = Input(shape=input_shape, name='input')\n",
        "    x = conv_block(inp, 32, pool=True)\n",
        "    x = conv_block(x, 64, pool=True)\n",
        "    x = conv_block(x, 128, pool=True)\n",
        "    x = conv_block(x, 256, pool=True)\n",
        "    x = Conv2D(256, 3, padding='same', activation='relu')(x)\n",
        "    x = BatchNormalization()(x)\n",
        "    x = GlobalAveragePooling2D()(x)\n",
        "    x = Dropout(0.4)(x)\n",
        "    out = Dense(num_classes, activation='softmax', name='class_out')(x)\n",
        "    model = Model(inputs=inp, outputs=out, name='firenet')\n",
        "    return model"
      ]
    },
    {
      "cell_type": "code",
      "execution_count": null,
      "metadata": {
        "id": "OTEMN7u3yQzW"
      },
      "outputs": [],
      "source": [
        "# If you prefer transfer learning, here's a simple MobileNetV2 option:\n",
        "def build_mobilenetv2(input_shape=(IM_SIZE, IM_SIZE, 3), num_classes=NUM_CLASSES, freeze_backbone=True):\n",
        "    base = tf.keras.applications.MobileNetV2(input_shape=input_shape, include_top=False, weights='imagenet')\n",
        "    if freeze_backbone:\n",
        "        base.trainable = False\n",
        "    x = Input(shape=input_shape)\n",
        "    z = tf.keras.applications.mobilenet_v2.preprocess_input(x)\n",
        "    z = base(z, training=False)\n",
        "    z = GlobalAveragePooling2D()(z)\n",
        "    z = Dropout(0.3)(z)\n",
        "    out = Dense(num_classes, activation='softmax')(z)\n",
        "    model = Model(inputs=x, outputs=out, name='mobilenetv2_fire')\n",
        "    return model"
      ]
    },
    {
      "cell_type": "markdown",
      "source": [
        "# ***Choose model***"
      ],
      "metadata": {
        "id": "xnR8sTXYwpuQ"
      }
    },
    {
      "cell_type": "code",
      "execution_count": null,
      "metadata": {
        "colab": {
          "base_uri": "https://localhost:8080/",
          "height": 440
        },
        "id": "6XFQt7uryTBP",
        "outputId": "673a9806-d845-4e63-8f10-e80ff354f0fe"
      },
      "outputs": [
        {
          "output_type": "stream",
          "name": "stdout",
          "text": [
            "Downloading data from https://storage.googleapis.com/tensorflow/keras-applications/mobilenet_v2/mobilenet_v2_weights_tf_dim_ordering_tf_kernels_1.0_224_no_top.h5\n",
            "\u001b[1m9406464/9406464\u001b[0m \u001b[32m━━━━━━━━━━━━━━━━━━━━\u001b[0m\u001b[37m\u001b[0m \u001b[1m0s\u001b[0m 0us/step\n"
          ]
        },
        {
          "output_type": "display_data",
          "data": {
            "text/plain": [
              "\u001b[1mModel: \"mobilenetv2_fire\"\u001b[0m\n"
            ],
            "text/html": [
              "<pre style=\"white-space:pre;overflow-x:auto;line-height:normal;font-family:Menlo,'DejaVu Sans Mono',consolas,'Courier New',monospace\"><span style=\"font-weight: bold\">Model: \"mobilenetv2_fire\"</span>\n",
              "</pre>\n"
            ]
          },
          "metadata": {}
        },
        {
          "output_type": "display_data",
          "data": {
            "text/plain": [
              "┏━━━━━━━━━━━━━━━━━━━━━━━━━━━━━━━━━┳━━━━━━━━━━━━━━━━━━━━━━━━┳━━━━━━━━━━━━━━━┓\n",
              "┃\u001b[1m \u001b[0m\u001b[1mLayer (type)                   \u001b[0m\u001b[1m \u001b[0m┃\u001b[1m \u001b[0m\u001b[1mOutput Shape          \u001b[0m\u001b[1m \u001b[0m┃\u001b[1m \u001b[0m\u001b[1m      Param #\u001b[0m\u001b[1m \u001b[0m┃\n",
              "┡━━━━━━━━━━━━━━━━━━━━━━━━━━━━━━━━━╇━━━━━━━━━━━━━━━━━━━━━━━━╇━━━━━━━━━━━━━━━┩\n",
              "│ input_layer_1 (\u001b[38;5;33mInputLayer\u001b[0m)      │ (\u001b[38;5;45mNone\u001b[0m, \u001b[38;5;34m224\u001b[0m, \u001b[38;5;34m224\u001b[0m, \u001b[38;5;34m3\u001b[0m)    │             \u001b[38;5;34m0\u001b[0m │\n",
              "├─────────────────────────────────┼────────────────────────┼───────────────┤\n",
              "│ true_divide (\u001b[38;5;33mTrueDivide\u001b[0m)        │ (\u001b[38;5;45mNone\u001b[0m, \u001b[38;5;34m224\u001b[0m, \u001b[38;5;34m224\u001b[0m, \u001b[38;5;34m3\u001b[0m)    │             \u001b[38;5;34m0\u001b[0m │\n",
              "├─────────────────────────────────┼────────────────────────┼───────────────┤\n",
              "│ subtract (\u001b[38;5;33mSubtract\u001b[0m)             │ (\u001b[38;5;45mNone\u001b[0m, \u001b[38;5;34m224\u001b[0m, \u001b[38;5;34m224\u001b[0m, \u001b[38;5;34m3\u001b[0m)    │             \u001b[38;5;34m0\u001b[0m │\n",
              "├─────────────────────────────────┼────────────────────────┼───────────────┤\n",
              "│ mobilenetv2_1.00_224            │ (\u001b[38;5;45mNone\u001b[0m, \u001b[38;5;34m7\u001b[0m, \u001b[38;5;34m7\u001b[0m, \u001b[38;5;34m1280\u001b[0m)     │     \u001b[38;5;34m2,257,984\u001b[0m │\n",
              "│ (\u001b[38;5;33mFunctional\u001b[0m)                    │                        │               │\n",
              "├─────────────────────────────────┼────────────────────────┼───────────────┤\n",
              "│ global_average_pooling2d        │ (\u001b[38;5;45mNone\u001b[0m, \u001b[38;5;34m1280\u001b[0m)           │             \u001b[38;5;34m0\u001b[0m │\n",
              "│ (\u001b[38;5;33mGlobalAveragePooling2D\u001b[0m)        │                        │               │\n",
              "├─────────────────────────────────┼────────────────────────┼───────────────┤\n",
              "│ dropout (\u001b[38;5;33mDropout\u001b[0m)               │ (\u001b[38;5;45mNone\u001b[0m, \u001b[38;5;34m1280\u001b[0m)           │             \u001b[38;5;34m0\u001b[0m │\n",
              "├─────────────────────────────────┼────────────────────────┼───────────────┤\n",
              "│ dense (\u001b[38;5;33mDense\u001b[0m)                   │ (\u001b[38;5;45mNone\u001b[0m, \u001b[38;5;34m2\u001b[0m)              │         \u001b[38;5;34m2,562\u001b[0m │\n",
              "└─────────────────────────────────┴────────────────────────┴───────────────┘\n"
            ],
            "text/html": [
              "<pre style=\"white-space:pre;overflow-x:auto;line-height:normal;font-family:Menlo,'DejaVu Sans Mono',consolas,'Courier New',monospace\">┏━━━━━━━━━━━━━━━━━━━━━━━━━━━━━━━━━┳━━━━━━━━━━━━━━━━━━━━━━━━┳━━━━━━━━━━━━━━━┓\n",
              "┃<span style=\"font-weight: bold\"> Layer (type)                    </span>┃<span style=\"font-weight: bold\"> Output Shape           </span>┃<span style=\"font-weight: bold\">       Param # </span>┃\n",
              "┡━━━━━━━━━━━━━━━━━━━━━━━━━━━━━━━━━╇━━━━━━━━━━━━━━━━━━━━━━━━╇━━━━━━━━━━━━━━━┩\n",
              "│ input_layer_1 (<span style=\"color: #0087ff; text-decoration-color: #0087ff\">InputLayer</span>)      │ (<span style=\"color: #00d7ff; text-decoration-color: #00d7ff\">None</span>, <span style=\"color: #00af00; text-decoration-color: #00af00\">224</span>, <span style=\"color: #00af00; text-decoration-color: #00af00\">224</span>, <span style=\"color: #00af00; text-decoration-color: #00af00\">3</span>)    │             <span style=\"color: #00af00; text-decoration-color: #00af00\">0</span> │\n",
              "├─────────────────────────────────┼────────────────────────┼───────────────┤\n",
              "│ true_divide (<span style=\"color: #0087ff; text-decoration-color: #0087ff\">TrueDivide</span>)        │ (<span style=\"color: #00d7ff; text-decoration-color: #00d7ff\">None</span>, <span style=\"color: #00af00; text-decoration-color: #00af00\">224</span>, <span style=\"color: #00af00; text-decoration-color: #00af00\">224</span>, <span style=\"color: #00af00; text-decoration-color: #00af00\">3</span>)    │             <span style=\"color: #00af00; text-decoration-color: #00af00\">0</span> │\n",
              "├─────────────────────────────────┼────────────────────────┼───────────────┤\n",
              "│ subtract (<span style=\"color: #0087ff; text-decoration-color: #0087ff\">Subtract</span>)             │ (<span style=\"color: #00d7ff; text-decoration-color: #00d7ff\">None</span>, <span style=\"color: #00af00; text-decoration-color: #00af00\">224</span>, <span style=\"color: #00af00; text-decoration-color: #00af00\">224</span>, <span style=\"color: #00af00; text-decoration-color: #00af00\">3</span>)    │             <span style=\"color: #00af00; text-decoration-color: #00af00\">0</span> │\n",
              "├─────────────────────────────────┼────────────────────────┼───────────────┤\n",
              "│ mobilenetv2_1.00_224            │ (<span style=\"color: #00d7ff; text-decoration-color: #00d7ff\">None</span>, <span style=\"color: #00af00; text-decoration-color: #00af00\">7</span>, <span style=\"color: #00af00; text-decoration-color: #00af00\">7</span>, <span style=\"color: #00af00; text-decoration-color: #00af00\">1280</span>)     │     <span style=\"color: #00af00; text-decoration-color: #00af00\">2,257,984</span> │\n",
              "│ (<span style=\"color: #0087ff; text-decoration-color: #0087ff\">Functional</span>)                    │                        │               │\n",
              "├─────────────────────────────────┼────────────────────────┼───────────────┤\n",
              "│ global_average_pooling2d        │ (<span style=\"color: #00d7ff; text-decoration-color: #00d7ff\">None</span>, <span style=\"color: #00af00; text-decoration-color: #00af00\">1280</span>)           │             <span style=\"color: #00af00; text-decoration-color: #00af00\">0</span> │\n",
              "│ (<span style=\"color: #0087ff; text-decoration-color: #0087ff\">GlobalAveragePooling2D</span>)        │                        │               │\n",
              "├─────────────────────────────────┼────────────────────────┼───────────────┤\n",
              "│ dropout (<span style=\"color: #0087ff; text-decoration-color: #0087ff\">Dropout</span>)               │ (<span style=\"color: #00d7ff; text-decoration-color: #00d7ff\">None</span>, <span style=\"color: #00af00; text-decoration-color: #00af00\">1280</span>)           │             <span style=\"color: #00af00; text-decoration-color: #00af00\">0</span> │\n",
              "├─────────────────────────────────┼────────────────────────┼───────────────┤\n",
              "│ dense (<span style=\"color: #0087ff; text-decoration-color: #0087ff\">Dense</span>)                   │ (<span style=\"color: #00d7ff; text-decoration-color: #00d7ff\">None</span>, <span style=\"color: #00af00; text-decoration-color: #00af00\">2</span>)              │         <span style=\"color: #00af00; text-decoration-color: #00af00\">2,562</span> │\n",
              "└─────────────────────────────────┴────────────────────────┴───────────────┘\n",
              "</pre>\n"
            ]
          },
          "metadata": {}
        },
        {
          "output_type": "display_data",
          "data": {
            "text/plain": [
              "\u001b[1m Total params: \u001b[0m\u001b[38;5;34m2,260,546\u001b[0m (8.62 MB)\n"
            ],
            "text/html": [
              "<pre style=\"white-space:pre;overflow-x:auto;line-height:normal;font-family:Menlo,'DejaVu Sans Mono',consolas,'Courier New',monospace\"><span style=\"font-weight: bold\"> Total params: </span><span style=\"color: #00af00; text-decoration-color: #00af00\">2,260,546</span> (8.62 MB)\n",
              "</pre>\n"
            ]
          },
          "metadata": {}
        },
        {
          "output_type": "display_data",
          "data": {
            "text/plain": [
              "\u001b[1m Trainable params: \u001b[0m\u001b[38;5;34m2,562\u001b[0m (10.01 KB)\n"
            ],
            "text/html": [
              "<pre style=\"white-space:pre;overflow-x:auto;line-height:normal;font-family:Menlo,'DejaVu Sans Mono',consolas,'Courier New',monospace\"><span style=\"font-weight: bold\"> Trainable params: </span><span style=\"color: #00af00; text-decoration-color: #00af00\">2,562</span> (10.01 KB)\n",
              "</pre>\n"
            ]
          },
          "metadata": {}
        },
        {
          "output_type": "display_data",
          "data": {
            "text/plain": [
              "\u001b[1m Non-trainable params: \u001b[0m\u001b[38;5;34m2,257,984\u001b[0m (8.61 MB)\n"
            ],
            "text/html": [
              "<pre style=\"white-space:pre;overflow-x:auto;line-height:normal;font-family:Menlo,'DejaVu Sans Mono',consolas,'Courier New',monospace\"><span style=\"font-weight: bold\"> Non-trainable params: </span><span style=\"color: #00af00; text-decoration-color: #00af00\">2,257,984</span> (8.61 MB)\n",
              "</pre>\n"
            ]
          },
          "metadata": {}
        }
      ],
      "source": [
        "# Choose model: custom CNN or mobilenet\n",
        "USE_TRANSFER = True\n",
        "\n",
        "if USE_TRANSFER:\n",
        "    model = build_mobilenetv2()\n",
        "else:\n",
        "    model = build_custom_cnn()\n",
        "\n",
        "model.summary()"
      ]
    },
    {
      "cell_type": "code",
      "execution_count": null,
      "metadata": {
        "id": "1uhUm3PEyU97"
      },
      "outputs": [],
      "source": [
        "lr = 1e-4\n",
        "model.compile(optimizer=tf.keras.optimizers.Adam(learning_rate=lr),\n",
        "              loss='categorical_crossentropy',\n",
        "              metrics=['accuracy'])\n",
        "\n",
        "timestamp = datetime.datetime.now().strftime(\"%Y%m%d-%H%M%S\")\n",
        "best_model_path = os.path.join(MODEL_DIR, f\"best_model_{timestamp}.h5\")\n",
        "\n",
        "callbacks = [\n",
        "    ModelCheckpoint(best_model_path, monitor='val_accuracy', save_best_only=True, mode='max', verbose=1),\n",
        "    ReduceLROnPlateau(monitor='val_loss', factor=0.5, patience=3, verbose=1, min_lr=1e-7),\n",
        "    EarlyStopping(monitor='val_loss', patience=6, restore_best_weights=True, verbose=1),\n",
        "    TensorBoard(log_dir=os.path.join(\"logs\", timestamp))\n",
        "]"
      ]
    },
    {
      "cell_type": "markdown",
      "source": [
        "# ***Train the Data***"
      ],
      "metadata": {
        "id": "TNursXLuw37x"
      }
    },
    {
      "cell_type": "code",
      "execution_count": null,
      "metadata": {
        "colab": {
          "base_uri": "https://localhost:8080/"
        },
        "id": "7TjUm0CjyXh8",
        "outputId": "58e9b900-cae9-4a68-e6db-e7f01d71b602"
      },
      "outputs": [
        {
          "metadata": {
            "tags": null
          },
          "name": "stdout",
          "output_type": "stream",
          "text": [
            "Training steps_per_epoch=946, validation_steps=197\n",
            "Epoch 1/5\n",
            "\u001b[1m946/946\u001b[0m \u001b[32m━━━━━━━━━━━━━━━━━━━━\u001b[0m\u001b[37m\u001b[0m \u001b[1m0s\u001b[0m 2s/step - accuracy: 0.5552 - loss: 0.7306\n",
            "Epoch 1: val_accuracy improved from -inf to 0.85952, saving model to saved_model/best_model_20250914-190040.h5\n"
          ]
        },
        {
          "metadata": {
            "tags": null
          },
          "name": "stderr",
          "output_type": "stream",
          "text": [
            "WARNING:absl:You are saving your model as an HDF5 file via `model.save()` or `keras.saving.save_model(model)`. This file format is considered legacy. We recommend using instead the native Keras format, e.g. `model.save('my_model.keras')` or `keras.saving.save_model(model, 'my_model.keras')`. \n"
          ]
        },
        {
          "metadata": {
            "tags": null
          },
          "name": "stdout",
          "output_type": "stream",
          "text": [
            "\u001b[1m946/946\u001b[0m \u001b[32m━━━━━━━━━━━━━━━━━━━━\u001b[0m\u001b[37m\u001b[0m \u001b[1m2033s\u001b[0m 2s/step - accuracy: 0.5552 - loss: 0.7305 - val_accuracy: 0.8595 - val_loss: 0.5094 - learning_rate: 1.0000e-04\n",
            "Epoch 2/5\n",
            "\u001b[1m946/946\u001b[0m \u001b[32m━━━━━━━━━━━━━━━━━━━━\u001b[0m\u001b[37m\u001b[0m \u001b[1m0s\u001b[0m 2s/step - accuracy: 0.7369 - loss: 0.5497\n",
            "Epoch 2: val_accuracy improved from 0.85952 to 0.86556, saving model to saved_model/best_model_20250914-190040.h5\n"
          ]
        },
        {
          "metadata": {
            "tags": null
          },
          "name": "stderr",
          "output_type": "stream",
          "text": [
            "WARNING:absl:You are saving your model as an HDF5 file via `model.save()` or `keras.saving.save_model(model)`. This file format is considered legacy. We recommend using instead the native Keras format, e.g. `model.save('my_model.keras')` or `keras.saving.save_model(model, 'my_model.keras')`. \n"
          ]
        },
        {
          "metadata": {
            "tags": null
          },
          "name": "stdout",
          "output_type": "stream",
          "text": [
            "\u001b[1m946/946\u001b[0m \u001b[32m━━━━━━━━━━━━━━━━━━━━\u001b[0m\u001b[37m\u001b[0m \u001b[1m2029s\u001b[0m 2s/step - accuracy: 0.7369 - loss: 0.5497 - val_accuracy: 0.8656 - val_loss: 0.4317 - learning_rate: 1.0000e-04\n",
            "Epoch 3/5\n",
            "\u001b[1m946/946\u001b[0m \u001b[32m━━━━━━━━━━━━━━━━━━━━\u001b[0m\u001b[37m\u001b[0m \u001b[1m0s\u001b[0m 2s/step - accuracy: 0.8051 - loss: 0.4763\n",
            "Epoch 3: val_accuracy improved from 0.86556 to 0.87143, saving model to saved_model/best_model_20250914-190040.h5\n"
          ]
        },
        {
          "metadata": {
            "tags": null
          },
          "name": "stderr",
          "output_type": "stream",
          "text": [
            "WARNING:absl:You are saving your model as an HDF5 file via `model.save()` or `keras.saving.save_model(model)`. This file format is considered legacy. We recommend using instead the native Keras format, e.g. `model.save('my_model.keras')` or `keras.saving.save_model(model, 'my_model.keras')`. \n"
          ]
        },
        {
          "output_type": "stream",
          "name": "stdout",
          "text": [
            "\u001b[1m946/946\u001b[0m \u001b[32m━━━━━━━━━━━━━━━━━━━━\u001b[0m\u001b[37m\u001b[0m \u001b[1m1974s\u001b[0m 2s/step - accuracy: 0.8051 - loss: 0.4763 - val_accuracy: 0.8714 - val_loss: 0.4004 - learning_rate: 1.0000e-04\n",
            "Epoch 4/5\n",
            "\u001b[1m946/946\u001b[0m \u001b[32m━━━━━━━━━━━━━━━━━━━━\u001b[0m\u001b[37m\u001b[0m \u001b[1m0s\u001b[0m 2s/step - accuracy: 0.8315 - loss: 0.4426\n",
            "Epoch 4: val_accuracy improved from 0.87143 to 0.87254, saving model to saved_model/best_model_20250914-190040.h5\n"
          ]
        },
        {
          "output_type": "stream",
          "name": "stderr",
          "text": [
            "WARNING:absl:You are saving your model as an HDF5 file via `model.save()` or `keras.saving.save_model(model)`. This file format is considered legacy. We recommend using instead the native Keras format, e.g. `model.save('my_model.keras')` or `keras.saving.save_model(model, 'my_model.keras')`. \n"
          ]
        },
        {
          "output_type": "stream",
          "name": "stdout",
          "text": [
            "\b\b\b\b\b\b\b\b\b\b\b\b\b\b\b\b\b\b\b\b\b\b\b\b\b\b\b\b\b\b\b\b\b\b\b\b\b\b\b\b\b\b\b\b\b\b\b\b\b\b\b\b\b\b\b\b\b\b\b\b\b\b\b\b\b\b\b\b\b\b\b\b\b\r\u001b[1m946/946\u001b[0m \u001b[32m━━━━━━━━━━━━━━━━━━━━\u001b[0m\u001b[37m\u001b[0m \u001b[1m1884s\u001b[0m 2s/step - accuracy: 0.8315 - loss: 0.4426 - val_accuracy: 0.8725 - val_loss: 0.3803 - learning_rate: 1.0000e-04\n",
            "Epoch 5/5\n",
            "\u001b[1m946/946\u001b[0m \u001b[32m━━━━━━━━━━━━━━━━━━━━\u001b[0m\u001b[37m\u001b[0m \u001b[1m0s\u001b[0m 2s/step - accuracy: 0.8384 - loss: 0.4188\n",
            "Epoch 5: val_accuracy did not improve from 0.87254\n",
            "\u001b[1m946/946\u001b[0m \u001b[32m━━━━━━━━━━━━━━━━━━━━\u001b[0m\u001b[37m\u001b[0m \u001b[1m1927s\u001b[0m 2s/step - accuracy: 0.8384 - loss: 0.4188 - val_accuracy: 0.8725 - val_loss: 0.3665 - learning_rate: 1.0000e-04\n",
            "Restoring model weights from the end of the best epoch: 5.\n"
          ]
        }
      ],
      "source": [
        "# ------------------------- Training ---------------------------\n",
        "steps_per_epoch = math.ceil(train_generator.samples / BATCH_SIZE)\n",
        "validation_steps = math.ceil(valid_generator.samples / BATCH_SIZE)\n",
        "\n",
        "print(f\"Training steps_per_epoch={steps_per_epoch}, validation_steps={validation_steps}\")\n",
        "\n",
        "history = model.fit(\n",
        "    train_generator,\n",
        "    steps_per_epoch=steps_per_epoch,\n",
        "    validation_data=valid_generator,\n",
        "    validation_steps=validation_steps,\n",
        "    epochs=EPOCHS,\n",
        "    callbacks=callbacks,\n",
        "    verbose=1\n",
        ")"
      ]
    },
    {
      "cell_type": "markdown",
      "source": [
        "# ***Evaluate***"
      ],
      "metadata": {
        "id": "YXuEqGeAd4Vr"
      }
    },
    {
      "cell_type": "code",
      "execution_count": null,
      "metadata": {
        "id": "NCZmbv_tyZx6"
      },
      "outputs": [],
      "source": [
        "acc = history.history['accuracy']\n",
        "val_acc = history.history['val_accuracy']\n",
        "\n",
        "loss = history.history['loss']\n",
        "val_loss = history.history['val_loss']\n",
        "\n",
        "\n",
        "\n",
        "# Save final model\n",
        "# final_model_path = os.path.join(MODEL_DIR, f\"final_model.keras\")\n",
        "# model.save(final_model_path)\n",
        "# print(\"Saved final model to:\", final_model_path)"
      ]
    },
    {
      "cell_type": "code",
      "source": [
        "loss,accuracy = model.evaluate(test_generator)\n",
        "print(f\"Test Accuracy: {accuracy:.4f}\")\n",
        "print(f\"Test Loss: {loss:.4f}\")"
      ],
      "metadata": {
        "colab": {
          "base_uri": "https://localhost:8080/"
        },
        "id": "mY78Rsi8MRis",
        "outputId": "7a92b655-8df3-4aca-8e52-59b227f47a1c"
      },
      "execution_count": null,
      "outputs": [
        {
          "output_type": "stream",
          "name": "stdout",
          "text": [
            "\u001b[1m197/197\u001b[0m \u001b[32m━━━━━━━━━━━━━━━━━━━━\u001b[0m\u001b[37m\u001b[0m \u001b[1m302s\u001b[0m 2s/step - accuracy: 0.8326 - loss: 0.3725\n",
            "Test Accuracy: 0.8770\n",
            "Test Loss: 0.3577\n"
          ]
        }
      ]
    },
    {
      "cell_type": "markdown",
      "source": [
        "# ***Model Save***"
      ],
      "metadata": {
        "id": "z5SMtJfTeCDS"
      }
    },
    {
      "cell_type": "code",
      "source": [
        "model.save(\"Fire_detection.keras\")"
      ],
      "metadata": {
        "id": "Xkr6mEG4NmML"
      },
      "execution_count": null,
      "outputs": []
    },
    {
      "cell_type": "code",
      "source": [
        "import os\n",
        "import math\n",
        "import tensorflow as tf\n",
        "from tensorflow.keras.models import load_model\n",
        "\n",
        "# Pick the best model if available, else final model\n",
        "best_model_path = os.path.join(MODEL_DIR, f\"best_model_{timestamp}.h5\")\n",
        "final_model_path = os.path.join(MODEL_DIR, f\"final_model.h5\")\n",
        "\n",
        "best_model_to_eval = best_model_path if os.path.exists(best_model_path) else final_model_path\n",
        "print(\"Evaluating with model:\", best_model_to_eval)\n",
        "\n",
        "# Rebuild the model architecture and load weights\n",
        "# Assuming the build_mobilenetv2 function is available from a previous cell\n",
        "model_eval = build_mobilenetv2() # Rebuild the model architecture\n",
        "model_eval.load_weights(best_model_to_eval) # Load the saved weights\n",
        "\n",
        "# Compile the model\n",
        "# We need to compile the model before evaluating it\n",
        "model_eval.compile(optimizer=tf.keras.optimizers.Adam(learning_rate=lr),\n",
        "                   loss='categorical_crossentropy',\n",
        "                   metrics=['accuracy'])\n",
        "\n",
        "\n",
        "# Evaluate on test data\n",
        "import math\n",
        "\n",
        "test_steps = math.ceil(test_generator.samples / BATCH_SIZE)\n",
        "loss, acc = model_eval.evaluate(test_generator, steps=test_steps, verbose=1)\n",
        "\n",
        "print(f\"\\n✅ Test Accuracy: {acc:.4f}\")\n",
        "print(f\"✅ Test Loss: {loss:.4f}\")"
      ],
      "metadata": {
        "colab": {
          "base_uri": "https://localhost:8080/"
        },
        "id": "NVPWH8d4gvA8",
        "outputId": "9b817073-f3e2-4ab0-b6dd-e6310f16d652"
      },
      "execution_count": null,
      "outputs": [
        {
          "output_type": "stream",
          "name": "stdout",
          "text": [
            "Evaluating with model: saved_model/best_model_20250914-064812.h5\n",
            "\u001b[1m197/197\u001b[0m \u001b[32m━━━━━━━━━━━━━━━━━━━━\u001b[0m\u001b[37m\u001b[0m \u001b[1m255s\u001b[0m 1s/step - accuracy: 0.8344 - loss: 0.3739\n",
            "\n",
            "✅ Test Accuracy: 0.8775\n",
            "✅ Test Loss: 0.3708\n"
          ]
        }
      ]
    },
    {
      "cell_type": "code",
      "source": [],
      "metadata": {
        "id": "atgepmztg5f5"
      },
      "execution_count": 4,
      "outputs": []
    }
  ],
  "metadata": {
    "colab": {
      "provenance": []
    },
    "kernelspec": {
      "display_name": "Python 3",
      "name": "python3"
    },
    "language_info": {
      "name": "python"
    }
  },
  "nbformat": 4,
  "nbformat_minor": 0
}